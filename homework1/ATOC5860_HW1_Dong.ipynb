{
 "cells": [
  {
   "cell_type": "code",
   "execution_count": 1,
   "id": "0623326d",
   "metadata": {},
   "outputs": [],
   "source": [
    "\"Library Import\"\n",
    "\n",
    "import numpy as np\n",
    "import pandas as pd \n",
    "import xarray as xr\n",
    "import matplotlib.pyplot as plt"
   ]
  },
  {
   "cell_type": "markdown",
   "id": "11db59d6",
   "metadata": {},
   "source": [
    "### 1) Basic Statistics\n",
    "\n",
    "#### a) Bayes Theorem. Assume background rates of COVID are 90% negative, 10% positive AND COVID tests are accurate 80% of the time, but fail 20% of the time. Your friend goes and gets a COVID test. Your friend test negative. What is the probability that your friend is actually negative? Explain to your friend how you are using Bayes theorem to informyour thinking. Hint: Review Lecture #1 and the 1.2.2.2 of the Barnes Notes. (10 points)\n",
    "\n",
    "From the lecture, Bayes theorem take <b><i>Pr(A|B)</b></i>, the probability that the test is accurate (test is negative <u> and you are negative</u>, and turns it into <b><i>Pr(B|A)</b></i>, the probability that the test had failed test is negative, <u>but you are actually positive</u>).\n",
    "    \n",
    "In the context of this question, the background and test reliability information is \n",
    "    \n",
    "- P(N): % negative population, 90%\n",
    "- P(T): % positive pouplation, 10%\n",
    "- P(T|N): probability of accurate test, 80%\n",
    "- P(N|T): probability of failed test, 20%\n",
    "\n",
    "We want to know the probability of actually being negative given the test's reliability of saying you are negative, P(N|T).\n",
    "    \n",
    "Application of Bayes Theorem describes the expression for <b><i>P(N|T)</b></i> in the context of this test as:\n",
    "\n",
    "$$P(N|T) = \\frac{P(T|N)P(N)}{P(T|N)P(N)+P(T|P)P(P)}$$\n",
    "\n",
    "Where the numerator is the test is correct and the denominator is all possible outcomes. "
   ]
  },
  {
   "cell_type": "code",
   "execution_count": 11,
   "id": "bfc2d3fc",
   "metadata": {},
   "outputs": [
    {
     "name": "stdout",
     "output_type": "stream",
     "text": [
      "The probability of this friend is actually negative is: 97.0%\n"
     ]
    }
   ],
   "source": [
    "def Bayes(P_BA, P_B, P_AB,P_A):\n",
    "    \"\"\"\n",
    "    Calculates basic Bayes theorem.\n",
    "    Input:\n",
    "        - P_BA: P(B|A), the probability of B did happen given A occured\n",
    "        - P_B: P(B), the probability B occuring\n",
    "        - P_AB: P(A|B), the probability of A did happen given B occured\n",
    "        - P_A: P(A), the probability of A occuring\n",
    "    \"\"\"\n",
    "    test_is_correct = P_BA*P_B\n",
    "    all_poss_outcomes = (P_BA*P_B)+(P_AB*P_A)\n",
    "    return test_is_correct/all_poss_outcomes\n",
    "\n",
    "#Background Information\n",
    "P_N = 0.9 # Percent of negative population\n",
    "P_P = 0.1 # Percent of positive population\n",
    "\n",
    "#COVID Test Reliability\n",
    "P_TN = 0.80 # Probabiilty test is accurate (Test is Neg and You are Neg)\n",
    "P_TP = 0.20 # Probability test is incorrect (Test is Neg but you are Pos)\n",
    "\n",
    "P_NT = Bayes(P_TN,P_N, P_TP, P_P)\n",
    "print('The probability of this friend is actually negative is: ' + str(np.round(P_NT,2)*100)+'%')"
   ]
  },
  {
   "cell_type": "markdown",
   "id": "86a28422",
   "metadata": {},
   "source": [
    "To explain this to a friend, I would list the background and COVID Test reliability probabilities. Given those probabilities, a realistic view of the test is dependent given how many have/don't have COVID and the accuracy of the test themselves. Like in simple probability calculations we did in grade school (ex: likeliness of drawing a specific card from a deck followed by a second specific card from a deck) I would compare Bayes theorem to that practice. The given percentages of background and COVID test reliability influence the true outcome of something happening. In this case, given that the majority of the population is negative, the test will naturally be more reliable as we are looking for test accuracy given that most people are likely negative. Since the accuracy of the test is relatively consistent, I would futher mention that the changes of population COVID contraction will influence the accuracy of the test given by the sheer chance of COVID exposure and subsequent likeliness of contracting it themselves."
   ]
  }
 ],
 "metadata": {
  "kernelspec": {
   "display_name": "Python 3 (ipykernel)",
   "language": "python",
   "name": "python3"
  },
  "language_info": {
   "codemirror_mode": {
    "name": "ipython",
    "version": 3
   },
   "file_extension": ".py",
   "mimetype": "text/x-python",
   "name": "python",
   "nbconvert_exporter": "python",
   "pygments_lexer": "ipython3",
   "version": "3.9.15"
  }
 },
 "nbformat": 4,
 "nbformat_minor": 5
}

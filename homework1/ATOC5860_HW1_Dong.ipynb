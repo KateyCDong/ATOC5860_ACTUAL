{
 "cells": [
  {
   "cell_type": "code",
   "execution_count": 1,
   "id": "95e7cd68",
   "metadata": {},
   "outputs": [],
   "source": [
    "\"Library Import\"\n",
    "\n",
    "import numpy as np\n",
    "import pandas as pd \n",
    "import xarray as xr\n",
    "import matplotlib.pyplot as plt"
   ]
  },
  {
   "cell_type": "markdown",
   "id": "8529b1c3",
   "metadata": {},
   "source": [
    "### 1) Basic Statistics\n",
    "\n",
    "#### a) Bayes Theorem. Assume background rates of COVID are 90% negative, 10% positive AND COVID tests are accurate 80% of the time, but fail 20% of the time. Your friend goes and gets a COVID test. Your friend test negative. What is the probability that your friend is actually negative? Explain to your friend how you are using Bayes theorem to informyour thinking. Hint: Review Lecture #1 and the 1.2.2.2 of the Barnes Notes. (10 points)\n",
    "\n",
    "From the lecture, Bayes theorem take <b><i>Pr(A|B)</b></i>, the probability that the test is accurate (test is negative <u> and you are negative</u>, and turns it into <b><i>Pr(B|A)</b></i>, the probability that the test had failed test is negative, <u>but you are actually positive</u>).\n",
    "    \n",
    "In the context of this question, the background and test reliability information is \n",
    "    \n",
    "- P(N): % negative population, 90%\n",
    "- P(T): % positive pouplation, 10%\n",
    "- P(T|N): probability of accurate test, 80%\n",
    "- P(N|T): probability of failed test, 20%\n",
    "\n",
    "We want to know the probability of actually being negative given the test's reliability of saying you are negative, P(N|T).\n",
    "    \n",
    "Application of Bayes Theorem describes the expression for <b><i>P(N|T)</b></i> in the context of this test as:\n",
    "\n",
    "$$P(N|T) = \\frac{P(T|N)P(N)}{P(T|N)P(N)+P(T|P)P(P)}$$\n",
    "\n",
    "Where the numerator is the test is correct and the denominator is all possible outcomes. "
   ]
  },
  {
   "cell_type": "code",
   "execution_count": 12,
   "id": "ccc80727",
   "metadata": {},
   "outputs": [
    {
     "name": "stdout",
     "output_type": "stream",
     "text": [
      "The probability that this friend is actually negative is: 97.0%\n"
     ]
    }
   ],
   "source": [
    "def Bayes(P_BA, P_B, P_AB,P_A):\n",
    "    \"\"\"\n",
    "    Calculates basic Bayes theorem.\n",
    "    Input:\n",
    "        - P_BA: P(B|A), the probability of A declares B occured\n",
    "        - P_B: P(B), the probability B occuring\n",
    "        - P_AB: P(A|B), the probability of A inaccurately declares B occured\n",
    "        - P_A: P(A), the probability of A occuring\n",
    "    \"\"\"\n",
    "    test_is_correct = P_BA*P_B\n",
    "    all_poss_outcomes = (P_BA*P_B)+(P_AB*P_A)\n",
    "    return test_is_correct/all_poss_outcomes\n",
    "\n",
    "#Background Information\n",
    "P_N = 0.9 # Percent of negative population\n",
    "P_P = 0.1 # Percent of positive population\n",
    "\n",
    "#COVID Test Reliability\n",
    "P_TN = 0.80 # Probabiilty test is accurate (Test is Neg and You are Neg)\n",
    "P_TP = 0.20 # Probability test is incorrect (Test is Neg but you are Pos)\n",
    "\n",
    "P_NT = Bayes(P_TN,P_N, P_TP, P_P)\n",
    "print('The probability that this friend is actually negative is: ' + str(np.round(P_NT,2)*100)+'%')"
   ]
  },
  {
   "cell_type": "markdown",
   "id": "afb093e4",
   "metadata": {},
   "source": [
    "To explain this to a friend, I would list the background and COVID Test reliability probabilities. Given those probabilities, a realistic view of the test is dependent given how many have/don't have COVID and the accuracy of the test themselves. Like in easier and more relatable probability calculations we did in grade school (ex: likeliness of drawing a specific card from a deck followed by a second specific card from a deck) I would compare Bayes theorem to that practice. The given percentages of background and COVID test reliability influence the true outcome of something happening. In this case, given that the majority of the population is negative, the test will naturally be more reliable as we are looking for test accuracy given that most people are likely negative. Since the accuracy of the test is relatively consistent, I would futher mention that the changes of population COVID contraction will influence the accuracy of the test given by the sheer chance of COVID exposure and subsequent likeliness of contracting it themselves.\n",
    "\n",
    "#### b) Explain how to test whether a sample mean is significantly different than zero at the 95% confidence level and the 99% confidence level. State each of the 5 steps in hypothesis testing that you are using. For step 4, calculate the specific critical value assuming a two-tailed test. Contrast your approach for a sample with 15 independentobservations (N=15) and a sample 1000 independent observations (N=1000). (15 points)\n",
    "\n",
    "For N>30, we need to use a t-test and for N>30 observations, we should use a z-test. Before implementing a z-test, we need to look at the distribution of observations to ensure there appears to be a normal, standaridzed distribution. We should note that with large enough N, both the z and t test will converge. By defining a variable, $z$:\n",
    "\n",
    "\n",
    "where $\\mu = mean$, $\\sigma = 1$, and x is an evenly distributed range of values to plot against. The standard normal distribution allows us to accurately determine the probability of a sample mean occuring at specific intervals defined by the standard deviation (SD). A sample mean +/- 1SD of the population mean indicates a 31.73% chance that z falls outside of the mean. In other words there is a 68.27% confidence interval that a sample mean will fall within what is expected in the population mean:\n",
    "\n",
    "<i> Confidence Intervals </i>\n",
    "- +/- 1SD: 68.27%\n",
    "- +/- 2SD: 95.45%\n",
    "- +/- 3SD: 99.73%\n",
    "\n",
    "<b>The five steps in hypothesis testing are as follows: </b>\n",
    "1) State the significance level, $\\alpha$\n",
    "\n",
    "- We will do two tests, at the 95% and 99% confidence interval.     \n",
    "    \n",
    "2) State the null and alternative hypothesis.\n",
    "\n",
    "- $H_0$: The sample mean <b>does not differ</b> from the population mean.\n",
    "    \n",
    "- $H_1$: The sample mean <b>differs</b> from the population mean.\n",
    "    \n",
    "3) State the statistic to be used, and the assumptions req to use it\n",
    "\n",
    "- The statistic will be randomly generated \"independent observations\" for N=15 and a separate test for N=1000.\n",
    "    \n",
    "4) State the critical region\n",
    "\n",
    "- For the T-Test (N=15), we calculate the degrees of freedom:\n",
    "    $$\n",
    "    \\mu = N-1 = 15-1 = 14\n",
    "    $$\n",
    "    \n",
    "- For the Z-Test (N>30), \n",
    "\n",
    "\n",
    "Using a 2-sided t-test(before we looked at the data, we didn't know what to expect from El Nino and La Nina years) we must have the following relationship to reject the null hypothesis. \n",
    "    \n",
    "    With knowledge that N=16, $\\nu = 16-1 = 15$\n",
    "    \n",
    "    The critical value can be found via lookup table or with a python function. \n",
    "\n",
    "<i> But because we are bootstrapping, the critical region is stated as: </i>\n",
    "\n",
    "    The el nino means are not within the 95% confidence interval within the bootstrap means. \n",
    "\n",
    "5) Evaluate the statistic and state conclusion.\n",
    "\n",
    "### Z-Test\n",
    "\n",
    "#### STEP 1: For the Z-Test, we first need to calculate the sample mean and sample standard error:\n",
    "$$\n",
    "X: N=1000 \\\\\n",
    "\\mu_{\\bar{x}}=\\mu = mean \\\\\n",
    "\\sigma_{\\bar{x}}=\\frac{\\sigma}{\\sqrt{N}}\n",
    "$$\n",
    "\n",
    "#### STEP 2: Next we will calculate the z-statistic, which is the number of standard errors that the sample mean deviates from the population mean by using the below expression for z:\n",
    "\n",
    "$$\n",
    "z = \\frac{{\\bar{X}}-{\\mu_\\bar{X}}}{\\sigma_\\bar{X}} = \\frac{{\\bar{X}}-{\\mu}}{\\frac{\\sigma}{\\sqrt{N}}} \\\\\n",
    "\n",
    "\\bar{X}: {mean}_{population}\n",
    "$$\n"
   ]
  },
  {
   "cell_type": "code",
   "execution_count": null,
   "id": "6df94cf3",
   "metadata": {},
   "outputs": [],
   "source": []
  },
  {
   "cell_type": "code",
   "execution_count": null,
   "id": "a4a9068c",
   "metadata": {},
   "outputs": [],
   "source": []
  },
  {
   "cell_type": "code",
   "execution_count": 14,
   "id": "b6849170",
   "metadata": {},
   "outputs": [
    {
     "data": {
      "text/plain": [
       "4.549999999999997"
      ]
     },
     "execution_count": 14,
     "metadata": {},
     "output_type": "execute_result"
    }
   ],
   "source": [
    "100-95.45"
   ]
  }
 ],
 "metadata": {
  "kernelspec": {
   "display_name": "Python 3 (ipykernel)",
   "language": "python",
   "name": "python3"
  },
  "language_info": {
   "codemirror_mode": {
    "name": "ipython",
    "version": 3
   },
   "file_extension": ".py",
   "mimetype": "text/x-python",
   "name": "python",
   "nbconvert_exporter": "python",
   "pygments_lexer": "ipython3",
   "version": "3.9.15"
  }
 },
 "nbformat": 4,
 "nbformat_minor": 5
}
